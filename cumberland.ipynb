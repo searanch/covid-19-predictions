{
 "cells": [
  {
   "cell_type": "code",
   "execution_count": null,
   "metadata": {},
   "outputs": [],
   "source": [
    "cumberland county maine"
   ]
  },
  {
   "cell_type": "code",
   "execution_count": 1,
   "metadata": {},
   "outputs": [],
   "source": [
    "# Import all dependencies \n",
    "import pandas as pd\n",
    "import matplotlib.pyplot as plt\n",
    "from sklearn.linear_model import LinearRegression\n",
    "from sklearn.model_selection import train_test_split\n",
    "import numpy as np\n",
    "\n",
    "import warnings\n",
    "warnings.filterwarnings('ignore')\n",
    "import datetime\n",
    "from datetime import datetime"
   ]
  },
  {
   "cell_type": "code",
   "execution_count": 2,
   "metadata": {},
   "outputs": [
    {
     "data": {
      "text/html": [
       "<div>\n",
       "<style scoped>\n",
       "    .dataframe tbody tr th:only-of-type {\n",
       "        vertical-align: middle;\n",
       "    }\n",
       "\n",
       "    .dataframe tbody tr th {\n",
       "        vertical-align: top;\n",
       "    }\n",
       "\n",
       "    .dataframe thead th {\n",
       "        text-align: right;\n",
       "    }\n",
       "</style>\n",
       "<table border=\"1\" class=\"dataframe\">\n",
       "  <thead>\n",
       "    <tr style=\"text-align: right;\">\n",
       "      <th></th>\n",
       "      <th>date</th>\n",
       "      <th>county</th>\n",
       "      <th>state</th>\n",
       "      <th>fips</th>\n",
       "      <th>cases</th>\n",
       "      <th>deaths</th>\n",
       "    </tr>\n",
       "  </thead>\n",
       "  <tbody>\n",
       "    <tr>\n",
       "      <th>61580</th>\n",
       "      <td>4/15/2020</td>\n",
       "      <td>Windham</td>\n",
       "      <td>Vermont</td>\n",
       "      <td>50025.0</td>\n",
       "      <td>58</td>\n",
       "      <td>1</td>\n",
       "    </tr>\n",
       "    <tr>\n",
       "      <th>550180</th>\n",
       "      <td>9/19/2020</td>\n",
       "      <td>Lavaca</td>\n",
       "      <td>Texas</td>\n",
       "      <td>48285.0</td>\n",
       "      <td>712</td>\n",
       "      <td>34</td>\n",
       "    </tr>\n",
       "    <tr>\n",
       "      <th>147955</th>\n",
       "      <td>5/15/2020</td>\n",
       "      <td>Henry</td>\n",
       "      <td>Virginia</td>\n",
       "      <td>51089.0</td>\n",
       "      <td>30</td>\n",
       "      <td>1</td>\n",
       "    </tr>\n",
       "    <tr>\n",
       "      <th>542484</th>\n",
       "      <td>9/17/2020</td>\n",
       "      <td>Henry</td>\n",
       "      <td>Missouri</td>\n",
       "      <td>29083.0</td>\n",
       "      <td>151</td>\n",
       "      <td>4</td>\n",
       "    </tr>\n",
       "    <tr>\n",
       "      <th>470055</th>\n",
       "      <td>8/26/2020</td>\n",
       "      <td>Denver</td>\n",
       "      <td>Colorado</td>\n",
       "      <td>8031.0</td>\n",
       "      <td>11021</td>\n",
       "      <td>426</td>\n",
       "    </tr>\n",
       "  </tbody>\n",
       "</table>\n",
       "</div>"
      ],
      "text/plain": [
       "             date   county     state     fips  cases  deaths\n",
       "61580   4/15/2020  Windham   Vermont  50025.0     58       1\n",
       "550180  9/19/2020   Lavaca     Texas  48285.0    712      34\n",
       "147955  5/15/2020    Henry  Virginia  51089.0     30       1\n",
       "542484  9/17/2020    Henry  Missouri  29083.0    151       4\n",
       "470055  8/26/2020   Denver  Colorado   8031.0  11021     426"
      ]
     },
     "execution_count": 2,
     "metadata": {},
     "output_type": "execute_result"
    }
   ],
   "source": [
    "# load county data\n",
    "counties = pd.read_csv('us-counties.csv')\n",
    "counties.sample(5)"
   ]
  },
  {
   "cell_type": "code",
   "execution_count": 3,
   "metadata": {},
   "outputs": [
    {
     "data": {
      "text/plain": [
       "Index(['date', 'county', 'state', 'fips', 'cases', 'deaths'], dtype='object')"
      ]
     },
     "execution_count": 3,
     "metadata": {},
     "output_type": "execute_result"
    }
   ],
   "source": [
    "# find sd county\n",
    "cumber = counties[(counties['county']=='Cumberland') & (counties['state']=='Maine')]\n",
    "cumber.columns"
   ]
  },
  {
   "cell_type": "code",
   "execution_count": 4,
   "metadata": {},
   "outputs": [],
   "source": [
    "cumber['datetime'] = pd.to_datetime(cumber['date'])"
   ]
  },
  {
   "cell_type": "code",
   "execution_count": 5,
   "metadata": {},
   "outputs": [],
   "source": [
    "#san_diego['datetime'] = pd.to_datetime(san_diego['date'])\n",
    "#san_diego\n",
    "\n",
    "cumber.sort_values(by = 'datetime')\n",
    "cumber = cumber.reset_index()\n",
    "\n",
    "# Groupby to consolidate cases by entire region\n",
    "cumber = cumber.groupby([\"datetime\"]).sum()\n",
    "  \n",
    "    # Sort by datetime and reset index\n",
    "cumber.sort_values(by = 'datetime')\n",
    "cumber = cumber.reset_index()\n",
    "    #wnc_group.tail\n",
    "    \n",
    "    # Finish datetime conversion\n",
    "cumber['datetime'] = pd.to_datetime(cumber['datetime'])\n",
    "cumber['day'] = cumber['datetime'].map(lambda x: x.day)\n",
    "cumber['month'] = cumber['datetime'].map(lambda x: x.month)\n",
    "cumber['year'] = cumber['datetime'].map(lambda x: x.year)\n",
    "\n",
    "    # Now create new column for growth rate\n",
    "    #us['growth_rate'] = us['cases'].pct_change()\n",
    "    # Drop null value\n",
    "cumber = cumber.dropna()\n",
    "cumber = cumber"
   ]
  },
  {
   "cell_type": "code",
   "execution_count": 6,
   "metadata": {},
   "outputs": [],
   "source": [
    "cumber['new_deaths'] = cumber['deaths'].diff()"
   ]
  },
  {
   "cell_type": "code",
   "execution_count": 18,
   "metadata": {},
   "outputs": [],
   "source": [
    "cumber['new_deaths'] = cumber['new_deaths'].fillna(0)"
   ]
  },
  {
   "cell_type": "code",
   "execution_count": null,
   "metadata": {},
   "outputs": [],
   "source": [
    "cumber.tail(30)\n"
   ]
  },
  {
   "cell_type": "code",
   "execution_count": 19,
   "metadata": {},
   "outputs": [
    {
     "data": {
      "text/plain": [
       "<matplotlib.axes._subplots.AxesSubplot at 0x2b748f5a130>"
      ]
     },
     "execution_count": 19,
     "metadata": {},
     "output_type": "execute_result"
    },
    {
     "data": {
      "image/png": "[encoded data removed]",
      "text/plain": [
       "<Figure size 432x288 with 1 Axes>"
      ]
     },
     "metadata": {
      "needs_background": "light"
     },
     "output_type": "display_data"
    }
   ],
   "source": [
    "# plot new deaths\n",
    "cumber['new_deaths'].plot()"
   ]
  },
  {
   "cell_type": "code",
   "execution_count": 13,
   "metadata": {},
   "outputs": [
    {
     "data": {
      "text/plain": [
       "<matplotlib.axes._subplots.AxesSubplot at 0x2b7486f5160>"
      ]
     },
     "execution_count": 13,
     "metadata": {},
     "output_type": "execute_result"
    },
    {
     "data": {
      "image/png": "[encoded data removed]",
      "text/plain": [
       "<Figure size 432x288 with 1 Axes>"
      ]
     },
     "metadata": {
      "needs_background": "light"
     },
     "output_type": "display_data"
    }
   ],
   "source": [
    "cumber['deaths'].plot()"
   ]
  },
  {
   "cell_type": "code",
   "execution_count": 21,
   "metadata": {},
   "outputs": [
    {
     "data": {
      "text/html": [
       "<div>\n",
       "<style scoped>\n",
       "    .dataframe tbody tr th:only-of-type {\n",
       "        vertical-align: middle;\n",
       "    }\n",
       "\n",
       "    .dataframe tbody tr th {\n",
       "        vertical-align: top;\n",
       "    }\n",
       "\n",
       "    .dataframe thead th {\n",
       "        text-align: right;\n",
       "    }\n",
       "</style>\n",
       "<table border=\"1\" class=\"dataframe\">\n",
       "  <thead>\n",
       "    <tr style=\"text-align: right;\">\n",
       "      <th></th>\n",
       "      <th>day</th>\n",
       "      <th>month</th>\n",
       "      <th>year</th>\n",
       "      <th>datetime</th>\n",
       "      <th>predicted_deaths</th>\n",
       "    </tr>\n",
       "  </thead>\n",
       "  <tbody>\n",
       "    <tr>\n",
       "      <th>0</th>\n",
       "      <td>20</td>\n",
       "      <td>11</td>\n",
       "      <td>2020</td>\n",
       "      <td>2020-11-20</td>\n",
       "      <td>90.124250</td>\n",
       "    </tr>\n",
       "    <tr>\n",
       "      <th>1</th>\n",
       "      <td>27</td>\n",
       "      <td>11</td>\n",
       "      <td>2020</td>\n",
       "      <td>2020-11-27</td>\n",
       "      <td>92.703957</td>\n",
       "    </tr>\n",
       "    <tr>\n",
       "      <th>2</th>\n",
       "      <td>4</td>\n",
       "      <td>12</td>\n",
       "      <td>2020</td>\n",
       "      <td>2020-12-04</td>\n",
       "      <td>93.319650</td>\n",
       "    </tr>\n",
       "    <tr>\n",
       "      <th>3</th>\n",
       "      <td>11</td>\n",
       "      <td>12</td>\n",
       "      <td>2020</td>\n",
       "      <td>2020-12-11</td>\n",
       "      <td>95.899357</td>\n",
       "    </tr>\n",
       "    <tr>\n",
       "      <th>4</th>\n",
       "      <td>18</td>\n",
       "      <td>12</td>\n",
       "      <td>2020</td>\n",
       "      <td>2020-12-18</td>\n",
       "      <td>98.479063</td>\n",
       "    </tr>\n",
       "    <tr>\n",
       "      <th>5</th>\n",
       "      <td>25</td>\n",
       "      <td>12</td>\n",
       "      <td>2020</td>\n",
       "      <td>2020-12-25</td>\n",
       "      <td>101.058770</td>\n",
       "    </tr>\n",
       "  </tbody>\n",
       "</table>\n",
       "</div>"
      ],
      "text/plain": [
       "   day  month  year   datetime  predicted_deaths\n",
       "0   20     11  2020 2020-11-20         90.124250\n",
       "1   27     11  2020 2020-11-27         92.703957\n",
       "2    4     12  2020 2020-12-04         93.319650\n",
       "3   11     12  2020 2020-12-11         95.899357\n",
       "4   18     12  2020 2020-12-18         98.479063\n",
       "5   25     12  2020 2020-12-25        101.058770"
      ]
     },
     "execution_count": 21,
     "metadata": {},
     "output_type": "execute_result"
    }
   ],
   "source": [
    "def make_models():\n",
    "    ''' function to run deaths model'''\n",
    "    # Make the model\n",
    "    cumber_model = LinearRegression()\n",
    "    \n",
    "    # Assign the features and the target\n",
    "    X_Us = cumber[[\"day\", \"month\", \"year\"]]\n",
    "    y_Us = cumber[[\"deaths\"]]\n",
    "    \n",
    "    # Split the data for training and testing\n",
    "    X_train_Us, X_test_Us, y_train_Us, y_test_Us = train_test_split(X_Us, y_Us, random_state=42)\n",
    "    \n",
    "    # Fit the model with the training data and score it with the testing data\n",
    "    cumber_model.fit(X_train_Us, y_train_Us)\n",
    "    cumber_model.score(X_test_Us, y_test_Us)\n",
    "    \n",
    "    # Make Dataframe for the holidays which will be used for the predicitons:\n",
    "    # Labor Day, Election Day, Thanksgiving, Christmas\n",
    "\n",
    "    #election_day = {\"day\": [20], \"month\": [11], \"year\": [2020]}\n",
    "    predict_weeks = {\"day\": [20, 27, 4, 11, 18, 25], \"month\": [11, 11, 12, 12, 12, 12], \"year\": [2020, 2020, 2020, 2020, 2020, 2020]}\n",
    "    \n",
    "    \n",
    "    predict_weeks = pd.DataFrame(predict_weeks)\n",
    "    #predict_election = pd.DataFrame(election_day)\n",
    "    predict_weeks[\"datetime\"] = pd.to_datetime((predict_weeks.year*10000 + predict_weeks.month*100+predict_weeks.day).apply(str),format='%Y%m%d')   \n",
    "\n",
    "\n",
    "    # Predict with the model\n",
    "    predictions = cumber_model.predict(predict_weeks[[\"day\", \"month\", \"year\"]])\n",
    "\n",
    "\n",
    "    # convert predictions from ndarray to list\n",
    "    preds_arr = []\n",
    "    for i in predictions:\n",
    "        preds_arr.append(np.asscalar(i))\n",
    "    \n",
    "    # Add the precitions back to the DataFrame and convert from object to \n",
    "    # float so we can use it for graphing\n",
    "    predict_weeks[\"predicted_deaths\"] = predictions\n",
    "    predict_weeks[\"predicted_deaths\"] = predict_weeks['predicted_deaths'].astype('float')\n",
    "    \n",
    "    return predict_weeks\n",
    "\n",
    "make_models()"
   ]
  },
  {
   "cell_type": "code",
   "execution_count": 26,
   "metadata": {},
   "outputs": [],
   "source": [
    "weeks_deaths = make_models()"
   ]
  },
  {
   "cell_type": "code",
   "execution_count": 28,
   "metadata": {},
   "outputs": [
    {
     "data": {
      "image/png": "[encoded data removed]",
      "text/plain": [
       "<Figure size 720x216 with 1 Axes>"
      ]
     },
     "metadata": {
      "needs_background": "light"
     },
     "output_type": "display_data"
    }
   ],
   "source": [
    " #Graph with Actual Values and Predicitons\n",
    "\n",
    "plt.figure(figsize = (10, 3))\n",
    "plt.scatter(weeks_deaths['datetime'],weeks_deaths['predicted_deaths'],c='g',)\n",
    "plt.scatter(cumber['datetime'],cumber['deaths'],c='#000080',)\n",
    "plt.grid(True)\n",
    "plt.title('Cumberland County Deaths predictor', fontsize = 20)\n",
    "plt.ylabel('Deaths', fontsize = 20)\n",
    "plt.show()"
   ]
  },
  {
   "cell_type": "code",
   "execution_count": null,
   "metadata": {},
   "outputs": [],
   "source": []
  }
 ],
 "metadata": {
  "kernelspec": {
   "display_name": "Python 3",
   "language": "python",
   "name": "python3"
  },
  "language_info": {
   "codemirror_mode": {
    "name": "ipython",
    "version": 3
   },
   "file_extension": ".py",
   "mimetype": "text/x-python",
   "name": "python",
   "nbconvert_exporter": "python",
   "pygments_lexer": "ipython3",
   "version": "3.8.3"
  }
 },
 "nbformat": 4,
 "nbformat_minor": 4
}
